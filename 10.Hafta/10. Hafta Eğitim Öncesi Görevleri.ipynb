{
 "cells": [
  {
   "attachments": {},
   "cell_type": "markdown",
   "metadata": {},
   "source": [
    "# Problem 1"
   ]
  },
  {
   "cell_type": "code",
   "execution_count": null,
   "metadata": {},
   "outputs": [],
   "source": [
    "# 1 - numpy kütüphanesini import edin\n",
    "import numpy as np\n",
    "\n",
    "# 0 ile 10 arasında 5 sayıdan oluşan matris üretme\n",
    "matris = np.random.randint(0, 10, size=(5))\n",
    "\n",
    "# Matris boyutunu öğrenme\n",
    "print(\"Matris boyutu: \", matris.shape)\n",
    "\n",
    "# Matris boyutunu yeniden boyutlandırma\n",
    "matris = matris.reshape(5, 1)\n",
    "\n",
    "# Yeniden boyutlandırılmış matrisin boyut sayısını öğrenme\n",
    "print(\"Yeniden boyutlandırılmış matris boyut sayısı: \", matris.ndim)\n",
    "\n"
   ]
  },
  {
   "attachments": {},
   "cell_type": "markdown",
   "metadata": {},
   "source": [
    "# Problem 2"
   ]
  },
  {
   "cell_type": "code",
   "execution_count": null,
   "metadata": {},
   "outputs": [],
   "source": [
    "# 1 - 0 ile 10 arasında bulunan tek sayılardan oluşan matris üretin\n",
    "\n",
    "# 2 - Oluşturduğunuz matrisi parçalayın\n",
    "\n",
    "# 3 - Parçalanmış matrisleri birleştirin\n",
    "\n",
    "# 1\n",
    "matris = np.arange(1, 11, 2).reshape(5, 1)\n",
    "print(\"Oluşturulan Matris:\\n\", matris)\n",
    "\n",
    "# 2\n",
    "parcalanmis_matris = np.vsplit(matris, [2, 4])\n",
    "print(\"Parçalanan Matrisler:\\n\", parcalanmis_matris)\n",
    "\n",
    "# 3\n",
    "birlesik_matris = np.concatenate((parcalanmis_matris[0], parcalanmis_matris[1], parcalanmis_matris[2]))\n",
    "print(\"Birleştirilmiş Matris:\\n\", birlesik_matris)\n"
   ]
  },
  {
   "attachments": {},
   "cell_type": "markdown",
   "metadata": {},
   "source": [
    "# Problem 3"
   ]
  },
  {
   "cell_type": "code",
   "execution_count": null,
   "metadata": {},
   "outputs": [],
   "source": [
    "\n",
    "import numpy as np\n",
    "\n",
    "# 1 - 5 ile 100 arasında ikişer ikişer atlayarak rastgele 10 sayıdan oluşan matris üretin\n",
    "matris = np.random.randint(5, 101, size=(10, ), step=2)\n",
    "\n",
    "# 2 - matris'in özelliklerini inceleyin\n",
    "print(\"Matris: \", matris)\n",
    "print(\"Boyut: \", matris.shape)\n",
    "print(\"Eleman Sayısı: \", matris.size)\n",
    "print(\"Veri Tipi: \", matris.dtype)\n",
    "print(\"Boyut Sayısı: \", matris.ndim)\n",
    "\n"
   ]
  }
 ],
 "metadata": {
  "kernelspec": {
   "display_name": "Python 3",
   "language": "python",
   "name": "python3"
  },
  "language_info": {
   "name": "python",
   "version": "3.10.5 (tags/v3.10.5:f377153, Jun  6 2022, 16:14:13) [MSC v.1929 64 bit (AMD64)]"
  },
  "orig_nbformat": 4,
  "vscode": {
   "interpreter": {
    "hash": "5026d2d6e7aaaaba093def813beadff083d8733e4a511af01735cbabd156995d"
   }
  }
 },
 "nbformat": 4,
 "nbformat_minor": 2
}
